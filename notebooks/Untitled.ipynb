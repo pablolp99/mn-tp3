{
 "cells": [
  {
   "cell_type": "code",
   "execution_count": 1,
   "id": "0c9980e4-4632-4ca1-a220-31e028145372",
   "metadata": {},
   "outputs": [],
   "source": [
    "import sys\n",
    "import numpy as np\n",
    "import pandas as pd\n",
    "\n",
    "sys.path.insert(1, \"../src\")\n",
    "from Loess import *"
   ]
  },
  {
   "cell_type": "code",
   "execution_count": 22,
   "id": "ef94bd8c-86ef-49ef-85ca-4fad2e6a9c2e",
   "metadata": {},
   "outputs": [],
   "source": [
    "df = pd.read_csv(\"datasets/dataset.csv\")\n",
    "\n",
    "xx = df[[\"radiation\", \"temperature\", \"wind\"]].to_numpy()\n",
    "yy = df[\"ozone\"].to_numpy()"
   ]
  },
  {
   "cell_type": "code",
   "execution_count": 3,
   "id": "31abcc2b-ee05-4905-b8f1-e184e0a2de92",
   "metadata": {},
   "outputs": [],
   "source": [
    "loess = Loess(xx, yy)"
   ]
  },
  {
   "cell_type": "code",
   "execution_count": 4,
   "id": "524814dc-b35a-4c4b-98d8-385f2d9154a8",
   "metadata": {},
   "outputs": [
    {
     "name": "stdout",
     "output_type": "stream",
     "text": [
      "[334.   97.   20.7]\n"
     ]
    },
    {
     "ename": "NameError",
     "evalue": "name 'weights' is not defined",
     "output_type": "error",
     "traceback": [
      "\u001b[0;31m---------------------------------------------------------------------------\u001b[0m",
      "\u001b[0;31mNameError\u001b[0m                                 Traceback (most recent call last)",
      "\u001b[0;32m/var/folders/p9/yt8frn4j3wz3npj497z21bxws7v91v/T/ipykernel_7942/3208850030.py\u001b[0m in \u001b[0;36m<module>\u001b[0;34m\u001b[0m\n\u001b[0;32m----> 1\u001b[0;31m \u001b[0mloess\u001b[0m\u001b[0;34m.\u001b[0m\u001b[0mestimate\u001b[0m\u001b[0;34m(\u001b[0m\u001b[0;36m1\u001b[0m\u001b[0;34m)\u001b[0m\u001b[0;34m\u001b[0m\u001b[0;34m\u001b[0m\u001b[0m\n\u001b[0m",
      "\u001b[0;32m~/MisCosas/Facultad/Metodos/mn-tp3/notebooks/../src/Loess.py\u001b[0m in \u001b[0;36mestimate\u001b[0;34m(self, window)\u001b[0m\n\u001b[1;32m     41\u001b[0m         \u001b[0mX1\u001b[0m \u001b[0;34m=\u001b[0m \u001b[0mnp\u001b[0m\u001b[0;34m.\u001b[0m\u001b[0mconcatenate\u001b[0m\u001b[0;34m(\u001b[0m \u001b[0;34m(\u001b[0m\u001b[0mnp\u001b[0m\u001b[0;34m.\u001b[0m\u001b[0mones\u001b[0m\u001b[0;34m(\u001b[0m\u001b[0;34m(\u001b[0m\u001b[0mlen\u001b[0m\u001b[0;34m(\u001b[0m\u001b[0mself\u001b[0m\u001b[0;34m.\u001b[0m\u001b[0mn_xx\u001b[0m\u001b[0;34m)\u001b[0m\u001b[0;34m,\u001b[0m \u001b[0;36m1\u001b[0m\u001b[0;34m)\u001b[0m\u001b[0;34m)\u001b[0m\u001b[0;34m,\u001b[0m \u001b[0mself\u001b[0m\u001b[0;34m.\u001b[0m\u001b[0mn_xx\u001b[0m\u001b[0;34m)\u001b[0m\u001b[0;34m,\u001b[0m \u001b[0maxis\u001b[0m\u001b[0;34m=\u001b[0m\u001b[0;36m1\u001b[0m\u001b[0;34m)\u001b[0m\u001b[0;34m\u001b[0m\u001b[0;34m\u001b[0m\u001b[0m\n\u001b[1;32m     42\u001b[0m \u001b[0;34m\u001b[0m\u001b[0m\n\u001b[0;32m---> 43\u001b[0;31m         \u001b[0mW\u001b[0m \u001b[0;34m=\u001b[0m \u001b[0mnp\u001b[0m\u001b[0;34m.\u001b[0m\u001b[0mmultiply\u001b[0m\u001b[0;34m(\u001b[0m\u001b[0mnp\u001b[0m\u001b[0;34m.\u001b[0m\u001b[0meye\u001b[0m\u001b[0;34m(\u001b[0m\u001b[0mwindow\u001b[0m\u001b[0;34m)\u001b[0m\u001b[0;34m,\u001b[0m \u001b[0mweights\u001b[0m\u001b[0;34m)\u001b[0m\u001b[0;34m\u001b[0m\u001b[0;34m\u001b[0m\u001b[0m\n\u001b[0m\u001b[1;32m     44\u001b[0m \u001b[0;34m\u001b[0m\u001b[0m\n\u001b[1;32m     45\u001b[0m         \u001b[0;31m# (X^TWX)^-1 X^TW\u001b[0m\u001b[0;34m\u001b[0m\u001b[0;34m\u001b[0m\u001b[0m\n",
      "\u001b[0;31mNameError\u001b[0m: name 'weights' is not defined"
     ]
    }
   ],
   "source": [
    "loess.estimate(1)"
   ]
  },
  {
   "cell_type": "code",
   "execution_count": 7,
   "id": "31528248-c7f9-4eee-a57a-e0f11872b5e5",
   "metadata": {},
   "outputs": [
    {
     "data": {
      "text/plain": [
       "array([1, 1, 1, 1])"
      ]
     },
     "execution_count": 7,
     "metadata": {},
     "output_type": "execute_result"
    }
   ],
   "source": [
    "y = np.array([1,2,3,4])\n",
    "x = np.array([2,3,4,5])\n",
    "\n",
    "np.abs(y-x)"
   ]
  },
  {
   "cell_type": "code",
   "execution_count": 5,
   "id": "6c1bc2c1-2d88-4407-8c9b-dec319e9a981",
   "metadata": {},
   "outputs": [
    {
     "ename": "TypeError",
     "evalue": "only size-1 arrays can be converted to Python scalars",
     "output_type": "error",
     "traceback": [
      "\u001b[0;31m---------------------------------------------------------------------------\u001b[0m",
      "\u001b[0;31mTypeError\u001b[0m                                 Traceback (most recent call last)",
      "\u001b[0;32m/var/folders/p9/yt8frn4j3wz3npj497z21bxws7v91v/T/ipykernel_7942/1440127279.py\u001b[0m in \u001b[0;36m<module>\u001b[0;34m\u001b[0m\n\u001b[0;32m----> 1\u001b[0;31m \u001b[0mnp\u001b[0m\u001b[0;34m.\u001b[0m\u001b[0marray\u001b[0m\u001b[0;34m(\u001b[0m\u001b[0;34m[\u001b[0m\u001b[0;34m[\u001b[0m\u001b[0mmath\u001b[0m\u001b[0;34m.\u001b[0m\u001b[0mpow\u001b[0m\u001b[0;34m(\u001b[0m\u001b[0mxx\u001b[0m\u001b[0;34m,\u001b[0m \u001b[0mp\u001b[0m\u001b[0;34m)\u001b[0m\u001b[0;34m]\u001b[0m \u001b[0;32mfor\u001b[0m \u001b[0mp\u001b[0m \u001b[0;32min\u001b[0m \u001b[0mrange\u001b[0m\u001b[0;34m(\u001b[0m\u001b[0;36m2\u001b[0m \u001b[0;34m+\u001b[0m \u001b[0;36m1\u001b[0m\u001b[0;34m)\u001b[0m\u001b[0;34m]\u001b[0m\u001b[0;34m)\u001b[0m\u001b[0;34m\u001b[0m\u001b[0;34m\u001b[0m\u001b[0m\n\u001b[0m",
      "\u001b[0;32m/var/folders/p9/yt8frn4j3wz3npj497z21bxws7v91v/T/ipykernel_7942/1440127279.py\u001b[0m in \u001b[0;36m<listcomp>\u001b[0;34m(.0)\u001b[0m\n\u001b[0;32m----> 1\u001b[0;31m \u001b[0mnp\u001b[0m\u001b[0;34m.\u001b[0m\u001b[0marray\u001b[0m\u001b[0;34m(\u001b[0m\u001b[0;34m[\u001b[0m\u001b[0;34m[\u001b[0m\u001b[0mmath\u001b[0m\u001b[0;34m.\u001b[0m\u001b[0mpow\u001b[0m\u001b[0;34m(\u001b[0m\u001b[0mxx\u001b[0m\u001b[0;34m,\u001b[0m \u001b[0mp\u001b[0m\u001b[0;34m)\u001b[0m\u001b[0;34m]\u001b[0m \u001b[0;32mfor\u001b[0m \u001b[0mp\u001b[0m \u001b[0;32min\u001b[0m \u001b[0mrange\u001b[0m\u001b[0;34m(\u001b[0m\u001b[0;36m2\u001b[0m \u001b[0;34m+\u001b[0m \u001b[0;36m1\u001b[0m\u001b[0;34m)\u001b[0m\u001b[0;34m]\u001b[0m\u001b[0;34m)\u001b[0m\u001b[0;34m\u001b[0m\u001b[0;34m\u001b[0m\u001b[0m\n\u001b[0m",
      "\u001b[0;31mTypeError\u001b[0m: only size-1 arrays can be converted to Python scalars"
     ]
    }
   ],
   "source": [
    "np.array([[math.pow(xx, p)] for p in range(2 + 1)])"
   ]
  },
  {
   "cell_type": "code",
   "execution_count": 25,
   "id": "39ee19e1-4819-465a-b66d-6dadf5223fcc",
   "metadata": {},
   "outputs": [
    {
     "data": {
      "text/plain": [
       "array([[1.88e+02, 6.50e+01, 5.40e+00],\n",
       "       [1.16e+02, 7.00e+01, 6.00e+00],\n",
       "       [1.47e+02, 7.20e+01, 1.06e+01],\n",
       "       [3.11e+02, 6.00e+01, 9.50e+00],\n",
       "       [2.97e+02, 6.30e+01, 6.60e+00],\n",
       "       [9.70e+01, 5.70e+01, 1.18e+01],\n",
       "       [1.70e+01, 5.90e+01, 1.81e+01],\n",
       "       [2.54e+02, 6.70e+01, 7.70e+00],\n",
       "       [2.88e+02, 6.40e+01, 7.20e+00],\n",
       "       [2.72e+02, 6.60e+01, 8.90e+00],\n",
       "       [6.30e+01, 5.60e+01, 1.12e+01],\n",
       "       [3.32e+02, 6.20e+01, 9.50e+00],\n",
       "       [3.05e+02, 6.40e+01, 1.00e+01],\n",
       "       [7.60e+01, 5.50e+01, 1.64e+01],\n",
       "       [3.20e+02, 6.60e+01, 9.50e+00],\n",
       "       [4.20e+01, 6.00e+01, 7.70e+00],\n",
       "       [6.00e+00, 5.70e+01, 7.70e+00],\n",
       "       [3.18e+02, 7.10e+01, 1.46e+01],\n",
       "       [2.30e+01, 5.90e+01, 7.70e+00],\n",
       "       [9.00e+01, 5.90e+01, 1.00e+01],\n",
       "       [1.10e+01, 6.50e+01, 1.00e+01],\n",
       "       [2.50e+02, 7.90e+01, 1.29e+01],\n",
       "       [2.21e+02, 7.70e+01, 3.70e+00],\n",
       "       [2.77e+02, 7.40e+01, 5.40e+00],\n",
       "       [1.25e+02, 8.00e+01, 7.70e+00],\n",
       "       [2.89e+02, 8.80e+01, 1.18e+01],\n",
       "       [3.21e+02, 8.50e+01, 9.50e+00],\n",
       "       [1.46e+02, 8.00e+01, 6.00e+00],\n",
       "       [1.89e+02, 7.50e+01, 1.29e+01],\n",
       "       [2.82e+02, 7.00e+01, 1.87e+01],\n",
       "       [3.50e+01, 6.30e+01, 7.20e+00],\n",
       "       [1.18e+02, 7.10e+01, 9.50e+00],\n",
       "       [1.35e+02, 7.40e+01, 8.30e+00],\n",
       "       [2.67e+02, 8.20e+01, 2.00e+00],\n",
       "       [2.46e+02, 8.30e+01, 7.20e+00],\n",
       "       [2.34e+02, 7.90e+01, 7.20e+00],\n",
       "       [1.73e+02, 8.10e+01, 2.60e+00],\n",
       "       [3.12e+02, 8.10e+01, 8.90e+00],\n",
       "       [2.74e+02, 8.60e+01, 3.10e+00],\n",
       "       [2.65e+02, 9.00e+01, 4.30e+00],\n",
       "       [2.70e+02, 9.00e+01, 3.70e+00],\n",
       "       [1.73e+02, 8.70e+01, 5.40e+00],\n",
       "       [2.62e+02, 7.10e+01, 1.23e+01],\n",
       "       [1.73e+02, 7.90e+01, 1.29e+01],\n",
       "       [4.60e+01, 7.80e+01, 1.23e+01],\n",
       "       [2.58e+02, 7.90e+01, 4.90e+00],\n",
       "       [2.72e+02, 8.00e+01, 8.30e+00],\n",
       "       [2.83e+02, 8.20e+01, 4.30e+00],\n",
       "       [1.85e+02, 8.50e+01, 3.10e+00],\n",
       "       [2.18e+02, 8.30e+01, 9.50e+00],\n",
       "       [5.00e+00, 7.20e+01, 4.90e+00],\n",
       "       [2.92e+02, 8.40e+01, 6.60e+00],\n",
       "       [2.21e+02, 8.30e+01, 6.00e+00],\n",
       "       [7.90e+01, 8.00e+01, 6.60e+00],\n",
       "       [8.00e+01, 8.40e+01, 1.00e+01],\n",
       "       [2.11e+02, 8.60e+01, 5.40e+00],\n",
       "       [2.73e+02, 8.40e+01, 5.40e+00],\n",
       "       [2.51e+02, 8.10e+01, 5.40e+00],\n",
       "       [2.52e+02, 7.90e+01, 7.20e+00],\n",
       "       [8.10e+01, 7.90e+01, 4.90e+00],\n",
       "       [2.20e+01, 7.90e+01, 1.18e+01],\n",
       "       [7.50e+01, 8.00e+01, 5.40e+00],\n",
       "       [2.53e+02, 8.70e+01, 2.00e+00],\n",
       "       [2.27e+02, 8.80e+01, 8.30e+00],\n",
       "       [2.05e+02, 8.80e+01, 6.00e+00],\n",
       "       [1.90e+02, 8.40e+01, 9.50e+00],\n",
       "       [2.71e+02, 8.00e+01, 9.50e+00],\n",
       "       [1.55e+02, 7.80e+01, 7.70e+00],\n",
       "       [6.90e+01, 7.50e+01, 8.30e+00],\n",
       "       [4.90e+01, 7.70e+01, 4.30e+00],\n",
       "       [1.13e+02, 7.40e+01, 5.40e+00],\n",
       "       [2.42e+02, 7.60e+01, 8.90e+00],\n",
       "       [1.88e+02, 7.60e+01, 8.30e+00],\n",
       "       [2.57e+02, 7.50e+01, 1.35e+01],\n",
       "       [3.40e+01, 7.00e+01, 1.23e+01],\n",
       "       [2.10e+02, 7.70e+01, 7.70e+00],\n",
       "       [2.36e+02, 7.90e+01, 1.40e+00],\n",
       "       [2.13e+02, 8.40e+01, 6.00e+00],\n",
       "       [2.01e+02, 9.50e+01, 7.70e+00],\n",
       "       [2.23e+02, 9.20e+01, 3.00e-01],\n",
       "       [2.35e+02, 9.40e+01, 4.30e+00],\n",
       "       [1.86e+02, 9.20e+01, 4.30e+00],\n",
       "       [1.65e+02, 8.90e+01, 4.90e+00],\n",
       "       [1.95e+02, 9.00e+01, 3.10e+00],\n",
       "       [1.81e+02, 9.10e+01, 8.00e-01],\n",
       "       [1.87e+02, 9.10e+01, 2.60e+00],\n",
       "       [9.30e+01, 8.50e+01, 5.40e+00],\n",
       "       [9.00e+01, 8.20e+01, 1.35e+01],\n",
       "       [2.50e+02, 7.80e+01, 8.90e+00],\n",
       "       [2.18e+02, 7.60e+01, 8.30e+00],\n",
       "       [2.28e+02, 7.30e+01, 8.90e+00],\n",
       "       [2.57e+02, 7.10e+01, 7.70e+00],\n",
       "       [2.34e+02, 7.90e+01, 1.29e+01],\n",
       "       [2.57e+02, 7.40e+01, 1.35e+01],\n",
       "       [2.36e+02, 7.50e+01, 4.30e+00],\n",
       "       [2.20e+01, 6.90e+01, 8.90e+00],\n",
       "       [1.10e+02, 6.90e+01, 9.50e+00],\n",
       "       [2.35e+02, 7.60e+01, 4.90e+00],\n",
       "       [2.22e+02, 6.50e+01, 1.18e+01],\n",
       "       [2.50e+01, 7.40e+01, 8.30e+00],\n",
       "       [2.36e+02, 6.60e+01, 8.30e+00],\n",
       "       [1.99e+02, 8.00e+01, 6.00e+00],\n",
       "       [2.36e+02, 6.20e+01, 1.06e+01],\n",
       "       [1.20e+01, 6.90e+01, 7.20e+00],\n",
       "       [1.37e+02, 7.90e+01, 8.30e+00],\n",
       "       [4.70e+01, 6.70e+01, 8.30e+00],\n",
       "       [1.80e+01, 6.10e+01, 1.46e+01],\n",
       "       [1.91e+02, 6.80e+01, 4.90e+00],\n",
       "       [1.89e+02, 7.30e+01, 1.23e+01],\n",
       "       [1.29e+02, 7.40e+01, 6.00e+00],\n",
       "       [2.21e+02, 6.60e+01, 9.50e+00]])"
      ]
     },
     "execution_count": 25,
     "metadata": {},
     "output_type": "execute_result"
    }
   ],
   "source": [
    "xx - np.array([2, 2, 2])"
   ]
  },
  {
   "cell_type": "code",
   "execution_count": null,
   "id": "4c0e4d53-d4ec-4fc5-b6a2-ed5b3320d99e",
   "metadata": {},
   "outputs": [],
   "source": []
  }
 ],
 "metadata": {
  "kernelspec": {
   "display_name": "Python 3 (ipykernel)",
   "language": "python",
   "name": "python3"
  },
  "language_info": {
   "codemirror_mode": {
    "name": "ipython",
    "version": 3
   },
   "file_extension": ".py",
   "mimetype": "text/x-python",
   "name": "python",
   "nbconvert_exporter": "python",
   "pygments_lexer": "ipython3",
   "version": "3.9.12"
  }
 },
 "nbformat": 4,
 "nbformat_minor": 5
}
