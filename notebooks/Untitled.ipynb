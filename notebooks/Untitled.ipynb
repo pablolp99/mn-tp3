{
 "cells": [
  {
   "cell_type": "code",
   "execution_count": 41,
   "id": "0c9980e4-4632-4ca1-a220-31e028145372",
   "metadata": {},
   "outputs": [],
   "source": [
    "import sys\n",
    "import numpy as np\n",
    "import pandas as pd\n",
    "import matplotlib.pyplot as plt\n",
    "\n",
    "from sklearn.preprocessing import PolynomialFeatures\n",
    "\n",
    "sys.path.insert(1, \"../src\")\n",
    "from Loess import *"
   ]
  },
  {
   "cell_type": "code",
   "execution_count": 42,
   "id": "ef94bd8c-86ef-49ef-85ca-4fad2e6a9c2e",
   "metadata": {},
   "outputs": [],
   "source": [
    "df = pd.read_csv(\"datasets/dataset.csv\")\n",
    "\n",
    "xx = df[[\"radiation\", \"temperature\", \"wind\"]].to_numpy()\n",
    "yy = df[\"ozone\"].to_numpy()\n",
    "\n",
    "loess = Loess(xx, yy)"
   ]
  },
  {
   "cell_type": "code",
   "execution_count": 43,
   "id": "a253d057-d921-4735-a028-7cc469b1ba41",
   "metadata": {},
   "outputs": [],
   "source": [
    "a=np.random.rand(111,3)\n",
    "a = a * 100"
   ]
  },
  {
   "cell_type": "code",
   "execution_count": 44,
   "id": "31abcc2b-ee05-4905-b8f1-e184e0a2de92",
   "metadata": {},
   "outputs": [
    {
     "data": {
      "text/plain": [
       "[136.67999377348625,\n",
       " 298.5686682974502,\n",
       " 207.8767455516185,\n",
       " 1019.4098487646626,\n",
       " 1745.863746433154,\n",
       " 143.79784877374658,\n",
       " 41.85188834369495,\n",
       " 100.87307237463324,\n",
       " 666.0368953332825,\n",
       " 16.044701350988433,\n",
       " 1748.6539366210304,\n",
       " 172.173241235771,\n",
       " 471.7097210271019,\n",
       " 1981.7745400835456,\n",
       " 931.6657267829875,\n",
       " 1770.778263993924,\n",
       " 926.0871862773313,\n",
       " 1566.449666535491,\n",
       " 1867.7619054083384,\n",
       " 1704.9522597428106,\n",
       " 84.71501848895431,\n",
       " 1030.6098165848302,\n",
       " 1271.0458027163374,\n",
       " 128.69363229186783,\n",
       " 1430.3911361612231,\n",
       " 891.7859554456711,\n",
       " 250.10572523555388,\n",
       " 491.47409955827754,\n",
       " 159.74508688281776,\n",
       " 324.1755356291992,\n",
       " 223.68976159476756,\n",
       " 977.8870509097386,\n",
       " 278.09194851006987,\n",
       " 253.48564214707747,\n",
       " 582.0565888034098,\n",
       " 413.33626744515993,\n",
       " 757.948966966886,\n",
       " 59.449451626869745,\n",
       " 152.64456859382807,\n",
       " 195.4529243312141,\n",
       " 993.7372842349199,\n",
       " 1472.593453614606,\n",
       " 221.4949971855632,\n",
       " 1420.6442049448992,\n",
       " 1315.8920887677234,\n",
       " 440.23751405766734,\n",
       " 906.4640420249484,\n",
       " 792.4495206210973,\n",
       " 696.1048866214081,\n",
       " 357.7827826700939,\n",
       " 598.2107022308601,\n",
       " 376.0737969551961,\n",
       " 30.20974257403124,\n",
       " 110.96249193316207,\n",
       " 377.7504024392057,\n",
       " 111.74165111606968,\n",
       " 125.96523606233549,\n",
       " 137.61457972849985,\n",
       " 24.233106372363054,\n",
       " 53.585488782341685,\n",
       " 939.5156623777857,\n",
       " 25.822481155769832,\n",
       " 493.7076042220487,\n",
       " 1959.3311034536403,\n",
       " 406.830799828049,\n",
       " 605.4456013744174,\n",
       " 8.977297268838564,\n",
       " 236.50471561624892,\n",
       " 66.20683256455655,\n",
       " 191.47685258840843,\n",
       " 1546.848336161894,\n",
       " 596.4363920947882,\n",
       " 9.919672334923051,\n",
       " 924.933833920695,\n",
       " 1743.5770585921177,\n",
       " 456.1007092527496,\n",
       " 27.844555135238238,\n",
       " 567.1575684014709,\n",
       " 1776.9767935167192,\n",
       " 478.05404214948476,\n",
       " 34.94180610001386,\n",
       " 602.0580097269102,\n",
       " 280.3971531474815,\n",
       " 1699.366211548441,\n",
       " 457.22430493042276,\n",
       " 416.4011403005807,\n",
       " 452.3175124857297,\n",
       " 2123.0464148969913,\n",
       " 147.79073215818855,\n",
       " 576.3610182083532,\n",
       " 2011.71465101122,\n",
       " 170.88854000473813,\n",
       " 1327.7157006464652,\n",
       " 1375.2913183083983,\n",
       " 520.1900638314391,\n",
       " 474.95131374401285,\n",
       " 212.39644628885839,\n",
       " 450.1928073930275,\n",
       " 1493.1600093551208,\n",
       " 464.36588241074713,\n",
       " 2045.1181016689047,\n",
       " 482.15986960349386,\n",
       " 77.27923147929214,\n",
       " 2272.180917505193,\n",
       " 841.2072185626527,\n",
       " 1033.3391050694029,\n",
       " 446.2702787855888,\n",
       " 144.67030905258198,\n",
       " 30.415681281025982,\n",
       " 543.2326292055753,\n",
       " 456.53995065435043]"
      ]
     },
     "execution_count": 44,
     "metadata": {},
     "output_type": "execute_result"
    }
   ],
   "source": [
    "res = []\n",
    "\n",
    "for vec in a:\n",
    "    res.append(loess.estimate(vec, 5, 2))\n",
    "    \n",
    "res"
   ]
  },
  {
   "cell_type": "code",
   "execution_count": 47,
   "id": "aa24662d-f0ea-49fa-9159-ff1c561690b6",
   "metadata": {},
   "outputs": [
    {
     "data": {
      "image/png": "[encoded data removed]",
      "text/plain": [
       "<Figure size 432x288 with 1 Axes>"
      ]
     },
     "metadata": {
      "needs_background": "light"
     },
     "output_type": "display_data"
    }
   ],
   "source": [
    "fig = plt.figure()\n",
    "ax1 = fig.add_subplot(111)\n",
    "\n",
    "rad_in = a[:, 0]\n",
    "\n",
    "ax1.scatter(df[\"radiation\"].to_numpy(), yy, s=10, c='b', marker=\"s\", label='first')\n",
    "ax1.scatter(rad_in, res, s=10, c='r', marker=\"o\", label='second')\n",
    "plt.legend(loc='upper left');\n",
    "plt.show()"
   ]
  },
  {
   "cell_type": "code",
   "execution_count": 30,
   "id": "f62a4925-a6da-4840-b73d-7a2d1c4a772c",
   "metadata": {},
   "outputs": [
    {
     "data": {
      "text/plain": [
       "(111,)"
      ]
     },
     "execution_count": 30,
     "metadata": {},
     "output_type": "execute_result"
    }
   ],
   "source": [
    "df[\"radiation\"].to_numpy().shape"
   ]
  },
  {
   "cell_type": "code",
   "execution_count": 32,
   "id": "6de26cfc-259c-4997-8899-628aca31319f",
   "metadata": {},
   "outputs": [
    {
     "data": {
      "text/plain": [
       "100"
      ]
     },
     "execution_count": 32,
     "metadata": {},
     "output_type": "execute_result"
    }
   ],
   "source": [
    "len(res)"
   ]
  },
  {
   "cell_type": "code",
   "execution_count": null,
   "id": "39a180dd-439b-4f83-8885-6220a087b0cf",
   "metadata": {},
   "outputs": [],
   "source": []
  }
 ],
 "metadata": {
  "kernelspec": {
   "display_name": "Python 3 (ipykernel)",
   "language": "python",
   "name": "python3"
  },
  "language_info": {
   "codemirror_mode": {
    "name": "ipython",
    "version": 3
   },
   "file_extension": ".py",
   "mimetype": "text/x-python",
   "name": "python",
   "nbconvert_exporter": "python",
   "pygments_lexer": "ipython3",
   "version": "3.9.12"
  }
 },
 "nbformat": 4,
 "nbformat_minor": 5
}
